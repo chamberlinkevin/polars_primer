{
 "cells": [
  {
   "cell_type": "markdown",
   "metadata": {},
   "source": [
    "# Polars Primer Notebook\n",
    "### By Kevin Chamberlin\n",
    "__Updated April 2025__"
   ]
  },
  {
   "cell_type": "markdown",
   "metadata": {},
   "source": [
    "### Installing codespace requirements \n",
    "Depending on your development environment, this step may not be necessary."
   ]
  },
  {
   "cell_type": "code",
   "execution_count": null,
   "metadata": {},
   "outputs": [
    {
     "name": "stdout",
     "output_type": "stream",
     "text": [
      "Note: you may need to restart the kernel to use updated packages.\n"
     ]
    }
   ],
   "source": [
    "%pip install polars --quiet"
   ]
  },
  {
   "cell_type": "code",
   "execution_count": 1,
   "metadata": {},
   "outputs": [],
   "source": [
    "import polars as pl"
   ]
  },
  {
   "cell_type": "markdown",
   "metadata": {},
   "source": [
    "### Intializing dataframes\n",
    "This is also commonly completed by reading data from a datasource."
   ]
  },
  {
   "cell_type": "code",
   "execution_count": 2,
   "metadata": {},
   "outputs": [
    {
     "name": "stdout",
     "output_type": "stream",
     "text": [
      "shape: (6, 5)\n",
      "┌─────┬───────────┬──────────┬──────────────────┬────────────────┐\n",
      "│ ID  ┆ FirstName ┆ LastName ┆ Hometown         ┆ Favorite Color │\n",
      "│ --- ┆ ---       ┆ ---      ┆ ---              ┆ ---            │\n",
      "│ i64 ┆ str       ┆ str      ┆ str              ┆ str            │\n",
      "╞═════╪═══════════╪══════════╪══════════════════╪════════════════╡\n",
      "│ 1   ┆ Steve     ┆ Rogers   ┆ Brooklyn, NY     ┆ Blue           │\n",
      "│ 2   ┆ Tony      ┆ Stark    ┆ Manahattan, NY   ┆ Gold           │\n",
      "│ 3   ┆ Peter     ┆ Parker   ┆ Queens, NY       ┆ Blue           │\n",
      "│ 4   ┆ Scott     ┆ Lang     ┆ Coral Gables, FL ┆ Blue           │\n",
      "│ 5   ┆ Natasha   ┆ Romanoff ┆ Stalingrad, USSR ┆ Black          │\n",
      "│ 6   ┆ Clint     ┆ Barton   ┆ Waverly, IA      ┆ Purple         │\n",
      "└─────┴───────────┴──────────┴──────────────────┴────────────────┘\n"
     ]
    },
    {
     "name": "stderr",
     "output_type": "stream",
     "text": [
      "/tmp/ipykernel_2103/4234603856.py:11: DataOrientationWarning: Row orientation inferred during DataFrame construction. Explicitly specify the orientation by passing `orient=\"row\"` to silence this warning.\n",
      "  df_avengers = pl.DataFrame(l_avengers_data, schema=l_avengers_col_names)\n"
     ]
    }
   ],
   "source": [
    "# Example of manually creating a DataFrame using Polars code \n",
    "l_avengers_data = [[1, \"Steve\", \"Rogers\", \"Brooklyn, NY\", \"Blue\"]\n",
    "              ,[2, \"Tony\", \"Stark\", \"Manahattan, NY\", \"Gold\"]\n",
    "              ,[3, \"Peter\", \"Parker\", \"Queens, NY\", \"Blue\"]\n",
    "              ,[4, \"Scott\", \"Lang\", \"Coral Gables, FL\", \"Blue\"]\n",
    "              ,[5, \"Natasha\", \"Romanoff\", \"Stalingrad, USSR\", \"Black\"]\n",
    "              ,[6, \"Clint\", \"Barton\", \"Waverly, IA\", \"Purple\"]]\n",
    "\n",
    "l_avengers_col_names = [\"ID\", \"FirstName\", \"LastName\", \"Hometown\", \"Favorite Color\"]\n",
    "\n",
    "df_avengers = pl.DataFrame(l_avengers_data, schema=l_avengers_col_names)\n",
    "\n",
    "# Display the DataFrame\n",
    "print(df_avengers)"
   ]
  },
  {
   "cell_type": "markdown",
   "metadata": {},
   "source": [
    "### Dataframe Manipulations\n",
    "Getting your hands on the data and making changes to it. Think of this type of operation like how you'd manipulate data in SQL or the SQL functions found in PySpark if you're familiar with that. In Polars documentation, these are often referred to as _Expressions_ and they take the form of an attribute within the Polars class. This means you can access them with the _pl._ prefix alias if you've imported the Polars package as I have at the top of this notebook. Expressions in Polars often take snake_case naming convention."
   ]
  },
  {
   "cell_type": "code",
   "execution_count": 3,
   "metadata": {},
   "outputs": [
    {
     "data": {
      "text/html": [
       "<div><style>\n",
       ".dataframe > thead > tr,\n",
       ".dataframe > tbody > tr {\n",
       "  text-align: right;\n",
       "  white-space: pre-wrap;\n",
       "}\n",
       "</style>\n",
       "<small>shape: (5, 2)</small><table border=\"1\" class=\"dataframe\"><thead><tr><th>ID</th><th>FullName</th></tr><tr><td>i64</td><td>str</td></tr></thead><tbody><tr><td>1</td><td>&quot;Steve Rogers&quot;</td></tr><tr><td>2</td><td>&quot;Tony Stark&quot;</td></tr><tr><td>3</td><td>&quot;Peter Parker&quot;</td></tr><tr><td>4</td><td>&quot;Scott Lang&quot;</td></tr><tr><td>5</td><td>&quot;Natasha Romanoff&quot;</td></tr></tbody></table></div>"
      ],
      "text/plain": [
       "shape: (5, 2)\n",
       "┌─────┬──────────────────┐\n",
       "│ ID  ┆ FullName         │\n",
       "│ --- ┆ ---              │\n",
       "│ i64 ┆ str              │\n",
       "╞═════╪══════════════════╡\n",
       "│ 1   ┆ Steve Rogers     │\n",
       "│ 2   ┆ Tony Stark       │\n",
       "│ 3   ┆ Peter Parker     │\n",
       "│ 4   ┆ Scott Lang       │\n",
       "│ 5   ┆ Natasha Romanoff │\n",
       "└─────┴──────────────────┘"
      ]
     },
     "execution_count": 3,
     "metadata": {},
     "output_type": "execute_result"
    }
   ],
   "source": [
    "df_avengers_names = (df_avengers\n",
    "                      .with_columns((pl.col(\"FirstName\") + pl.lit(\" \") + pl.col(\"LastName\")).alias(\"FullName\"))\n",
    "                      .select(pl.col(\"ID\"), pl.col(\"FullName\"))\n",
    "                     )\n",
    "\n",
    "# print(df_avengers_names)\n",
    "df_avengers_names.head()"
   ]
  },
  {
   "cell_type": "code",
   "execution_count": 4,
   "metadata": {},
   "outputs": [
    {
     "name": "stdout",
     "output_type": "stream",
     "text": [
      "shape: (6, 2)\n",
      "┌─────┬─────────────────┐\n",
      "│ ID  ┆ Hero            │\n",
      "│ --- ┆ ---             │\n",
      "│ i64 ┆ str             │\n",
      "╞═════╪═════════════════╡\n",
      "│ 1   ┆ Captain America │\n",
      "│ 2   ┆ Iron Man        │\n",
      "│ 3   ┆ Spiderman       │\n",
      "│ 4   ┆ Ant-Man         │\n",
      "│ 5   ┆ Black Widow     │\n",
      "│ 6   ┆ Hawkeye         │\n",
      "└─────┴─────────────────┘\n",
      "shape: (1, 5)\n",
      "┌─────┬───────────┬──────────┬──────────┬────────────────┐\n",
      "│ ID  ┆ FirstName ┆ LastName ┆ Hometown ┆ Favorite Color │\n",
      "│ --- ┆ ---       ┆ ---      ┆ ---      ┆ ---            │\n",
      "│ i64 ┆ str       ┆ str      ┆ str      ┆ str            │\n",
      "╞═════╪═══════════╪══════════╪══════════╪════════════════╡\n",
      "│ 7   ┆ Wanda     ┆ Maximoff ┆ Sokovia  ┆ Scarlet        │\n",
      "└─────┴───────────┴──────────┴──────────┴────────────────┘\n"
     ]
    },
    {
     "name": "stderr",
     "output_type": "stream",
     "text": [
      "/tmp/ipykernel_2103/1548602643.py:12: DataOrientationWarning: Row orientation inferred during DataFrame construction. Explicitly specify the orientation by passing `orient=\"row\"` to silence this warning.\n",
      "  df_avengers_heroes = pl.DataFrame(l_hero_data, schema=l_hero_col_names)\n",
      "/tmp/ipykernel_2103/1548602643.py:21: DataOrientationWarning: Row orientation inferred during DataFrame construction. Explicitly specify the orientation by passing `orient=\"row\"` to silence this warning.\n",
      "  df_avengers_new = pl.DataFrame(l_new_avenger_data, schema=l_new_avenger_col_names)\n"
     ]
    }
   ],
   "source": [
    "# Create a new dataframe completely from scratch\n",
    "\n",
    "l_hero_data = [[1, \"Captain America\"]\n",
    "              ,[2, \"Iron Man\"]\n",
    "              ,[3, \"Spiderman\"]\n",
    "              ,[4, \"Ant-Man\"]\n",
    "              ,[5, \"Black Widow\"]\n",
    "              ,[6, \"Hawkeye\"]]\n",
    "\n",
    "l_hero_col_names = [\"ID\", \"Hero\"]\n",
    "\n",
    "df_avengers_heroes = pl.DataFrame(l_hero_data, schema=l_hero_col_names)\n",
    "\n",
    "\n",
    "# Create a new dataframe that matches the columns of an existing dataframe\n",
    "\n",
    "l_new_avenger_data = [[7, \"Wanda\", \"Maximoff\", \"Sokovia\", \"Scarlet\"]]\n",
    "\n",
    "l_new_avenger_col_names = df_avengers.columns # data and metadata from DFs can be called upon\n",
    "\n",
    "df_avengers_new = pl.DataFrame(l_new_avenger_data, schema=l_new_avenger_col_names)\n",
    "\n",
    "# Display both new dataframes\n",
    "print(df_avengers_heroes)\n",
    "\n",
    "print(df_avengers_new)"
   ]
  },
  {
   "cell_type": "code",
   "execution_count": 5,
   "metadata": {},
   "outputs": [
    {
     "name": "stdout",
     "output_type": "stream",
     "text": [
      "shape: (7, 6)\n",
      "┌─────┬───────────┬──────────┬──────────────────┬────────────────┬─────────────────┐\n",
      "│ ID  ┆ FirstName ┆ LastName ┆ Hometown         ┆ Favorite Color ┆ Hero            │\n",
      "│ --- ┆ ---       ┆ ---      ┆ ---              ┆ ---            ┆ ---             │\n",
      "│ i64 ┆ str       ┆ str      ┆ str              ┆ str            ┆ str             │\n",
      "╞═════╪═══════════╪══════════╪══════════════════╪════════════════╪═════════════════╡\n",
      "│ 1   ┆ Steve     ┆ Rogers   ┆ Brooklyn, NY     ┆ Blue           ┆ Captain America │\n",
      "│ 2   ┆ Tony      ┆ Stark    ┆ Manahattan, NY   ┆ Gold           ┆ Iron Man        │\n",
      "│ 3   ┆ Peter     ┆ Parker   ┆ Queens, NY       ┆ Blue           ┆ Spiderman       │\n",
      "│ 4   ┆ Scott     ┆ Lang     ┆ Coral Gables, FL ┆ Blue           ┆ Ant-Man         │\n",
      "│ 5   ┆ Natasha   ┆ Romanoff ┆ Stalingrad, USSR ┆ Black          ┆ Black Widow     │\n",
      "│ 6   ┆ Clint     ┆ Barton   ┆ Waverly, IA      ┆ Purple         ┆ Hawkeye         │\n",
      "│ 7   ┆ Wanda     ┆ Maximoff ┆ Sokovia          ┆ Scarlet        ┆ null            │\n",
      "└─────┴───────────┴──────────┴──────────────────┴────────────────┴─────────────────┘\n"
     ]
    }
   ],
   "source": [
    "# Two ways of combining data\n",
    "# Union (Concatenation in Polars)\n",
    "df_avengers_expanded = pl.concat([df_avengers, df_avengers_new], how=\"vertical\")\n",
    "\n",
    "# Join operation\n",
    "df_avengers_expanded = df_avengers_expanded.join(df_avengers_heroes, on=\"ID\", how=\"left\")\n",
    "\n",
    "# NOTE: If a table you're joing with is relatively small a \"broadcast join\" may improve processing time while distributed\n",
    "\n",
    "print(df_avengers_expanded)"
   ]
  },
  {
   "cell_type": "code",
   "execution_count": 6,
   "metadata": {},
   "outputs": [
    {
     "name": "stdout",
     "output_type": "stream",
     "text": [
      "shape: (5, 5)\n",
      "┌──────────────┬──────────┬──────────────────┬─────────────────┬───────────────┐\n",
      "│ FirstInitial ┆ LastName ┆ Hometown         ┆ Hero            ┆ FavoriteColor │\n",
      "│ ---          ┆ ---      ┆ ---              ┆ ---             ┆ ---           │\n",
      "│ str          ┆ str      ┆ str              ┆ str             ┆ str           │\n",
      "╞══════════════╪══════════╪══════════════════╪═════════════════╪═══════════════╡\n",
      "│ S            ┆ Rogers   ┆ Brooklyn, NY     ┆ Captain America ┆ Blue          │\n",
      "│ P            ┆ Parker   ┆ Queens, NY       ┆ Spiderman       ┆ Blue          │\n",
      "│ S            ┆ Lang     ┆ Coral Gables, FL ┆ Ant-Man         ┆ Blue          │\n",
      "│ N            ┆ Romanoff ┆ Stalingrad, USSR ┆ Black Widow     ┆ Black         │\n",
      "│ C            ┆ Barton   ┆ Waverly, IA      ┆ Hawkeye         ┆ Purple        │\n",
      "└──────────────┴──────────┴──────────────────┴─────────────────┴───────────────┘\n"
     ]
    }
   ],
   "source": [
    "# Filtering is generally a good skill to be able to utilize\n",
    "\n",
    "df_avengers_filtered = (df_avengers_expanded\n",
    "                         .filter(pl.col(\"Hero\").is_not_null())\n",
    "                         .filter(pl.col(\"Favorite Color\") != \"Gold\")\n",
    "                         .with_columns(pl.col(\"FirstName\").str.slice(0, 1).alias(\"FirstInitial\"))\n",
    "                         .drop(\"FirstName\")\n",
    "                         .select(\"FirstInitial\", \"LastName\", \"Hometown\", \"Hero\", pl.col(\"Favorite Color\").alias(\"FavoriteColor\"))\n",
    "                        )\n",
    "\n",
    "print(df_avengers_filtered)"
   ]
  },
  {
   "cell_type": "markdown",
   "metadata": {},
   "source": [
    "# A note on Polars execution\n",
    "Polars is designed to be a fast and efficient DataFrame library for data manipulation. It runs in a multi-threaded environment, taking advantage of modern hardware to perform operations in parallel. \n",
    "\n",
    "Polars is built with Rust, which allows it to be highly optimized for performance while maintaining memory safety and concurrency. This results in significant speedups, especially with large datasets, when compared to libraries like Pandas and PySpark.\n",
    "\n",
    "When writing Polars code, there are some key differences to consider compared to Pandas or PySpark:\n",
    "- Polars uses eager and lazy execution. While Pandas operates with eager execution (immediately evaluating each operation), Polars allows both eager execution (immediate evaluation) and lazy execution (building a query plan and executing all operations at once, which can be optimized).\n",
    "- Polars is designed to minimize memory usage and maximize speed by using Arrow memory format under the hood, leading to better performance with large datasets compared to Pandas.\n",
    "- Polars also scales better in multi-threaded environments, whereas Pandas is more single-threaded. PySpark, on the other hand, can scale to distributed clusters but has more overhead when running locally.\n",
    "- Polars offers a simpler, more streamlined API, making it easy to switch from Pandas in many cases, but some operations (especially related to SQL queries) may require a different approach than in PySpark.\n",
    "\n",
    "These factors make Polars an attractive alternative for users looking for high performance without the complexity of distributed systems.\n"
   ]
  },
  {
   "cell_type": "markdown",
   "metadata": {},
   "source": [
    "# More common tasks\n",
    "Below are some examples of common tasks that might need to be done with Polars. I'll continue to add to this section as I learn more. "
   ]
  },
  {
   "cell_type": "code",
   "execution_count": 15,
   "metadata": {},
   "outputs": [
    {
     "name": "stdout",
     "output_type": "stream",
     "text": [
      "shape: (5, 6)\n",
      "┌──────────────┬──────────┬──────────────────┬─────────────────┬───────────────┬───────────┐\n",
      "│ FirstInitial ┆ LastName ┆ Hometown         ┆ Hero            ┆ FavoriteColor ┆ WeightLbs │\n",
      "│ ---          ┆ ---      ┆ ---              ┆ ---             ┆ ---           ┆ ---       │\n",
      "│ str          ┆ str      ┆ str              ┆ str             ┆ str           ┆ f64       │\n",
      "╞══════════════╪══════════╪══════════════════╪═════════════════╪═══════════════╪═══════════╡\n",
      "│ S            ┆ Rogers   ┆ Brooklyn, NY     ┆ Captain America ┆ Blue          ┆ 200.0     │\n",
      "│ P            ┆ Parker   ┆ Queens, NY       ┆ Spiderman       ┆ Blue          ┆ 160.0     │\n",
      "│ S            ┆ Lang     ┆ Coral Gables, FL ┆ Ant-Man         ┆ Blue          ┆ 0.0001    │\n",
      "│ N            ┆ Romanoff ┆ Stalingrad, USSR ┆ Black Widow     ┆ Black         ┆ 150.0     │\n",
      "│ C            ┆ Barton   ┆ Waverly, IA      ┆ Hawkeye         ┆ Purple        ┆ 175.0     │\n",
      "└──────────────┴──────────┴──────────────────┴─────────────────┴───────────────┴───────────┘\n"
     ]
    },
    {
     "data": {
      "text/html": [
       "<div><style>\n",
       ".dataframe > thead > tr,\n",
       ".dataframe > tbody > tr {\n",
       "  text-align: right;\n",
       "  white-space: pre-wrap;\n",
       "}\n",
       "</style>\n",
       "<small>shape: (3, 2)</small><table border=\"1\" class=\"dataframe\"><thead><tr><th>FavoriteColor</th><th>TotalWeightLbs</th></tr><tr><td>str</td><td>f64</td></tr></thead><tbody><tr><td>&quot;Blue&quot;</td><td>360.0001</td></tr><tr><td>&quot;Black&quot;</td><td>150.0</td></tr><tr><td>&quot;Purple&quot;</td><td>175.0</td></tr></tbody></table></div>"
      ],
      "text/plain": [
       "shape: (3, 2)\n",
       "┌───────────────┬────────────────┐\n",
       "│ FavoriteColor ┆ TotalWeightLbs │\n",
       "│ ---           ┆ ---            │\n",
       "│ str           ┆ f64            │\n",
       "╞═══════════════╪════════════════╡\n",
       "│ Blue          ┆ 360.0001       │\n",
       "│ Black         ┆ 150.0          │\n",
       "│ Purple        ┆ 175.0          │\n",
       "└───────────────┴────────────────┘"
      ]
     },
     "execution_count": 15,
     "metadata": {},
     "output_type": "execute_result"
    }
   ],
   "source": [
    "# Add a static column to the DF\n",
    "df_avengers_weights = (df_avengers_filtered\n",
    "                       .with_columns(pl.lit(200).alias(\"WeightLbs\"))\n",
    "                       )\n",
    "\n",
    "# Changing specific rows\n",
    "df_avengers_weights = (\n",
    "    df_avengers_weights\n",
    "    .with_columns([\n",
    "        pl.when(pl.col(\"LastName\") == \"Barton\")\n",
    "          .then(175)  # Set WeightLbs to 175 where LastName is \"Barton\"\n",
    "          .when(pl.col(\"LastName\") == \"Parker\")\n",
    "          .then(160) # Set WeightLbs to 160 for Parker\n",
    "          .when(pl.col(\"LastName\") == \"Romanoff\")\n",
    "          .then(150) # Set WeightLbs to 150 for Romanoff\n",
    "          .when(pl.col(\"LastName\") == \"Lang\")\n",
    "          .then(0.0001) # Set WeightLbs to 0.0001 for Lang\n",
    "          .otherwise(pl.col(\"WeightLbs\"))  # Keep existing WeightLbs for all other rows\n",
    "          .alias(\"WeightLbs\")  # Update the WeightLbs column\n",
    "    ])\n",
    ")\n",
    "print(df_avengers_weights)\n",
    "\n",
    "# Aggregate sums of columns with a group_by() on other columns\n",
    "df_avengers_sum = (df_avengers_weights\n",
    "                   .group_by(pl.col(\"FavoriteColor\"))\n",
    "                   .agg(pl.sum(\"WeightLbs\").alias(\"TotalWeightLbs\"))\n",
    "                   )\n",
    "\n",
    "df_avengers_sum.head(5)"
   ]
  },
  {
   "cell_type": "markdown",
   "metadata": {},
   "source": [
    "# Window Functions\n",
    "As with most SQL operations, windowing can dramatically improve your code's performance and readability. Unlike in PySpark, no additional imports are necessary, and the syntax doesn't require the extra layer of defining a window. I've found them to be the solution to a lot of headaches with compute limitations and below are some simple syntax examples of what might be useful to know. "
   ]
  },
  {
   "cell_type": "code",
   "execution_count": 26,
   "metadata": {},
   "outputs": [
    {
     "name": "stdout",
     "output_type": "stream",
     "text": [
      "shape: (5, 7)\n",
      "┌──────────────┬──────────┬───────────────┬──────────────┬──────────────┬───────────┬──────────────┐\n",
      "│ FirstInitial ┆ LastName ┆ Hometown      ┆ Hero         ┆ FavoriteColo ┆ WeightLbs ┆ ColorSumWeig │\n",
      "│ ---          ┆ ---      ┆ ---           ┆ ---          ┆ r            ┆ ---       ┆ htLbs        │\n",
      "│ str          ┆ str      ┆ str           ┆ str          ┆ ---          ┆ f64       ┆ ---          │\n",
      "│              ┆          ┆               ┆              ┆ str          ┆           ┆ f64          │\n",
      "╞══════════════╪══════════╪═══════════════╪══════════════╪══════════════╪═══════════╪══════════════╡\n",
      "│ S            ┆ Rogers   ┆ Brooklyn, NY  ┆ Captain      ┆ Blue         ┆ 200.0     ┆ 360.0001     │\n",
      "│              ┆          ┆               ┆ America      ┆              ┆           ┆              │\n",
      "│ P            ┆ Parker   ┆ Queens, NY    ┆ Spiderman    ┆ Blue         ┆ 160.0     ┆ 360.0001     │\n",
      "│ S            ┆ Lang     ┆ Coral Gables, ┆ Ant-Man      ┆ Blue         ┆ 0.0001    ┆ 360.0001     │\n",
      "│              ┆          ┆ FL            ┆              ┆              ┆           ┆              │\n",
      "│ N            ┆ Romanoff ┆ Stalingrad,   ┆ Black Widow  ┆ Black        ┆ 150.0     ┆ 150.0        │\n",
      "│              ┆          ┆ USSR          ┆              ┆              ┆           ┆              │\n",
      "│ C            ┆ Barton   ┆ Waverly, IA   ┆ Hawkeye      ┆ Purple       ┆ 175.0     ┆ 175.0        │\n",
      "└──────────────┴──────────┴───────────────┴──────────────┴──────────────┴───────────┴──────────────┘\n"
     ]
    }
   ],
   "source": [
    "# Partitioning within the data\n",
    "df_avengers_partition = (df_avengers_weights\n",
    "                         .with_columns(pl.sum(\"WeightLbs\").over(pl.col(\"FavoriteColor\")).alias(\"ColorSumWeightLbs\"))\n",
    "                         )\n",
    "print(df_avengers_partition)"
   ]
  },
  {
   "cell_type": "code",
   "execution_count": 27,
   "metadata": {},
   "outputs": [
    {
     "name": "stdout",
     "output_type": "stream",
     "text": [
      "shape: (5, 7)\n",
      "┌──────────────┬──────────┬───────────────┬──────────────┬──────────────┬───────────┬──────────────┐\n",
      "│ FirstInitial ┆ LastName ┆ Hometown      ┆ Hero         ┆ FavoriteColo ┆ AlphaRank ┆ AlphaRankWit │\n",
      "│ ---          ┆ ---      ┆ ---           ┆ ---          ┆ r            ┆ ---       ┆ hinColor     │\n",
      "│ str          ┆ str      ┆ str           ┆ str          ┆ ---          ┆ u32       ┆ ---          │\n",
      "│              ┆          ┆               ┆              ┆ str          ┆           ┆ u32          │\n",
      "╞══════════════╪══════════╪═══════════════╪══════════════╪══════════════╪═══════════╪══════════════╡\n",
      "│ S            ┆ Rogers   ┆ Brooklyn, NY  ┆ Captain      ┆ Blue         ┆ 4         ┆ 3            │\n",
      "│              ┆          ┆               ┆ America      ┆              ┆           ┆              │\n",
      "│ P            ┆ Parker   ┆ Queens, NY    ┆ Spiderman    ┆ Blue         ┆ 3         ┆ 2            │\n",
      "│ S            ┆ Lang     ┆ Coral Gables, ┆ Ant-Man      ┆ Blue         ┆ 2         ┆ 1            │\n",
      "│              ┆          ┆ FL            ┆              ┆              ┆           ┆              │\n",
      "│ N            ┆ Romanoff ┆ Stalingrad,   ┆ Black Widow  ┆ Black        ┆ 5         ┆ 1            │\n",
      "│              ┆          ┆ USSR          ┆              ┆              ┆           ┆              │\n",
      "│ C            ┆ Barton   ┆ Waverly, IA   ┆ Hawkeye      ┆ Purple       ┆ 1         ┆ 1            │\n",
      "└──────────────┴──────────┴───────────────┴──────────────┴──────────────┴───────────┴──────────────┘\n"
     ]
    }
   ],
   "source": [
    "# Ordering data\n",
    "df_avengers_ordered = (\n",
    "    df_avengers_filtered\n",
    "    .with_columns([\n",
    "        pl.col(\"LastName\").str.to_lowercase().rank(\"ordinal\").alias(\"AlphaRank\"),\n",
    "        pl.col(\"LastName\").str.to_lowercase().rank(\"ordinal\").over(\"FavoriteColor\").alias(\"AlphaRankWithinColor\")\n",
    "    ])\n",
    ")\n",
    "print(df_avengers_ordered)"
   ]
  },
  {
   "cell_type": "code",
   "execution_count": 28,
   "metadata": {},
   "outputs": [
    {
     "name": "stdout",
     "output_type": "stream",
     "text": [
      "shape: (5, 8)\n",
      "┌────────────┬──────────┬────────────┬────────────┬────────────┬───────────┬───────────┬───────────┐\n",
      "│ FirstIniti ┆ LastName ┆ Hometown   ┆ Hero       ┆ FavoriteCo ┆ WeightLbs ┆ LagWeight ┆ LeadWeigh │\n",
      "│ al         ┆ ---      ┆ ---        ┆ ---        ┆ lor        ┆ ---       ┆ ---       ┆ t         │\n",
      "│ ---        ┆ str      ┆ str        ┆ str        ┆ ---        ┆ f64       ┆ f64       ┆ ---       │\n",
      "│ str        ┆          ┆            ┆            ┆ str        ┆           ┆           ┆ f64       │\n",
      "╞════════════╪══════════╪════════════╪════════════╪════════════╪═══════════╪═══════════╪═══════════╡\n",
      "│ S          ┆ Lang     ┆ Coral      ┆ Ant-Man    ┆ Blue       ┆ 0.0001    ┆ 150.0     ┆ null      │\n",
      "│            ┆          ┆ Gables, FL ┆            ┆            ┆           ┆           ┆           │\n",
      "│ N          ┆ Romanoff ┆ Stalingrad ┆ Black      ┆ Black      ┆ 150.0     ┆ 160.0     ┆ 0.0001    │\n",
      "│            ┆          ┆ , USSR     ┆ Widow      ┆            ┆           ┆           ┆           │\n",
      "│ P          ┆ Parker   ┆ Queens, NY ┆ Spiderman  ┆ Blue       ┆ 160.0     ┆ 175.0     ┆ 150.0     │\n",
      "│ C          ┆ Barton   ┆ Waverly,   ┆ Hawkeye    ┆ Purple     ┆ 175.0     ┆ 200.0     ┆ 160.0     │\n",
      "│            ┆          ┆ IA         ┆            ┆            ┆           ┆           ┆           │\n",
      "│ S          ┆ Rogers   ┆ Brooklyn,  ┆ Captain    ┆ Blue       ┆ 200.0     ┆ null      ┆ 175.0     │\n",
      "│            ┆          ┆ NY         ┆ America    ┆            ┆           ┆           ┆           │\n",
      "└────────────┴──────────┴────────────┴────────────┴────────────┴───────────┴───────────┴───────────┘\n"
     ]
    }
   ],
   "source": [
    "# Leading and Lagging\n",
    "df_avengers_lag_lead = (\n",
    "    df_avengers_weights\n",
    "    .sort(\"WeightLbs\")  # Sort the entire DataFrame based on WeightLbs\n",
    "    .with_columns([\n",
    "        # LagWeight: the next highest value\n",
    "        pl.col(\"WeightLbs\").shift(-1).alias(\"LagWeight\"),\n",
    "\n",
    "        # LeadWeight: the next lowest value\n",
    "        pl.col(\"WeightLbs\").shift(1).alias(\"LeadWeight\")\n",
    "    ])\n",
    ")\n",
    "\n",
    "print(df_avengers_lag_lead)\n"
   ]
  }
 ],
 "metadata": {
  "kernelspec": {
   "display_name": "Python 3",
   "language": "python",
   "name": "python3"
  },
  "language_info": {
   "codemirror_mode": {
    "name": "ipython",
    "version": 3
   },
   "file_extension": ".py",
   "mimetype": "text/x-python",
   "name": "python",
   "nbconvert_exporter": "python",
   "pygments_lexer": "ipython3",
   "version": "3.12.1"
  }
 },
 "nbformat": 4,
 "nbformat_minor": 2
}
