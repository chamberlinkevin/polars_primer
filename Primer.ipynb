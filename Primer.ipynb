{
 "cells": [
  {
   "cell_type": "markdown",
   "metadata": {},
   "source": [
    "# Polars Primer Notebook\n",
    "### By Kevin Chamberlin\n",
    "__Updated April 2025__"
   ]
  },
  {
   "cell_type": "markdown",
   "metadata": {},
   "source": [
    "### Installing codespace requirements \n",
    "Depending on your development environment, this step may not be necessary."
   ]
  },
  {
   "cell_type": "code",
   "execution_count": 1,
   "metadata": {},
   "outputs": [
    {
     "name": "stdout",
     "output_type": "stream",
     "text": [
      "Note: you may need to restart the kernel to use updated packages.\n"
     ]
    }
   ],
   "source": [
    "%pip install polars --quiet"
   ]
  },
  {
   "cell_type": "code",
   "execution_count": 2,
   "metadata": {},
   "outputs": [],
   "source": [
    "import polars as pl"
   ]
  },
  {
   "cell_type": "markdown",
   "metadata": {},
   "source": [
    "### Intializing dataframes\n",
    "This is also commonly completed by reading data from a datasource."
   ]
  },
  {
   "cell_type": "code",
   "execution_count": 5,
   "metadata": {},
   "outputs": [
    {
     "name": "stdout",
     "output_type": "stream",
     "text": [
      "shape: (6, 5)\n",
      "┌─────┬───────────┬──────────┬──────────────────┬────────────────┐\n",
      "│ ID  ┆ FirstName ┆ LastName ┆ Hometown         ┆ Favorite Color │\n",
      "│ --- ┆ ---       ┆ ---      ┆ ---              ┆ ---            │\n",
      "│ i64 ┆ str       ┆ str      ┆ str              ┆ str            │\n",
      "╞═════╪═══════════╪══════════╪══════════════════╪════════════════╡\n",
      "│ 1   ┆ Steve     ┆ Rogers   ┆ Brooklyn, NY     ┆ Blue           │\n",
      "│ 2   ┆ Tony      ┆ Stark    ┆ Manahattan, NY   ┆ Gold           │\n",
      "│ 3   ┆ Peter     ┆ Parker   ┆ Queens, NY       ┆ Blue           │\n",
      "│ 4   ┆ Scott     ┆ Lang     ┆ Coral Gables, FL ┆ Blue           │\n",
      "│ 5   ┆ Natasha   ┆ Romanoff ┆ Stalingrad, USSR ┆ Black          │\n",
      "│ 6   ┆ Clint     ┆ Barton   ┆ Waverly, IA      ┆ Purple         │\n",
      "└─────┴───────────┴──────────┴──────────────────┴────────────────┘\n"
     ]
    },
    {
     "name": "stderr",
     "output_type": "stream",
     "text": [
      "/tmp/ipykernel_9363/4234603856.py:11: DataOrientationWarning: Row orientation inferred during DataFrame construction. Explicitly specify the orientation by passing `orient=\"row\"` to silence this warning.\n",
      "  df_avengers = pl.DataFrame(l_avengers_data, schema=l_avengers_col_names)\n"
     ]
    }
   ],
   "source": [
    "# Example of manually creating a DataFrame using Polars code \n",
    "l_avengers_data = [[1, \"Steve\", \"Rogers\", \"Brooklyn, NY\", \"Blue\"]\n",
    "              ,[2, \"Tony\", \"Stark\", \"Manahattan, NY\", \"Gold\"]\n",
    "              ,[3, \"Peter\", \"Parker\", \"Queens, NY\", \"Blue\"]\n",
    "              ,[4, \"Scott\", \"Lang\", \"Coral Gables, FL\", \"Blue\"]\n",
    "              ,[5, \"Natasha\", \"Romanoff\", \"Stalingrad, USSR\", \"Black\"]\n",
    "              ,[6, \"Clint\", \"Barton\", \"Waverly, IA\", \"Purple\"]]\n",
    "\n",
    "l_avengers_col_names = [\"ID\", \"FirstName\", \"LastName\", \"Hometown\", \"Favorite Color\"]\n",
    "\n",
    "df_avengers = pl.DataFrame(l_avengers_data, schema=l_avengers_col_names)\n",
    "\n",
    "# Display the DataFrame\n",
    "print(df_avengers)"
   ]
  },
  {
   "cell_type": "markdown",
   "metadata": {},
   "source": [
    "### Dataframe Manipulations\n",
    "Getting your hands on the data and making changes to it. Think of this type of operation like how you'd manipulate data in SQL or the SQL functions found in PySpark if you're familiar with that. In Polars documentation, these are often referred to as _Expressions_ and they take the form of an attribute within the Polars class. This means you can access them with the _pl._ prefix alias if you've imported the Polars package as I have at the top of this notebook. Expressions in Polars often take snake_case naming convention."
   ]
  },
  {
   "cell_type": "code",
   "execution_count": null,
   "metadata": {},
   "outputs": [
    {
     "data": {
      "text/html": [
       "<div><style>\n",
       ".dataframe > thead > tr,\n",
       ".dataframe > tbody > tr {\n",
       "  text-align: right;\n",
       "  white-space: pre-wrap;\n",
       "}\n",
       "</style>\n",
       "<small>shape: (5, 2)</small><table border=\"1\" class=\"dataframe\"><thead><tr><th>ID</th><th>FullName</th></tr><tr><td>i64</td><td>str</td></tr></thead><tbody><tr><td>1</td><td>&quot;Steve Rogers&quot;</td></tr><tr><td>2</td><td>&quot;Tony Stark&quot;</td></tr><tr><td>3</td><td>&quot;Peter Parker&quot;</td></tr><tr><td>4</td><td>&quot;Scott Lang&quot;</td></tr><tr><td>5</td><td>&quot;Natasha Romanoff&quot;</td></tr></tbody></table></div>"
      ],
      "text/plain": [
       "shape: (5, 2)\n",
       "┌─────┬──────────────────┐\n",
       "│ ID  ┆ FullName         │\n",
       "│ --- ┆ ---              │\n",
       "│ i64 ┆ str              │\n",
       "╞═════╪══════════════════╡\n",
       "│ 1   ┆ Steve Rogers     │\n",
       "│ 2   ┆ Tony Stark       │\n",
       "│ 3   ┆ Peter Parker     │\n",
       "│ 4   ┆ Scott Lang       │\n",
       "│ 5   ┆ Natasha Romanoff │\n",
       "└─────┴──────────────────┘"
      ]
     },
     "execution_count": 12,
     "metadata": {},
     "output_type": "execute_result"
    }
   ],
   "source": [
    "df_avengers_names = (df_avengers\n",
    "                      .with_columns((pl.col(\"FirstName\") + pl.lit(\" \") + pl.col(\"LastName\")).alias(\"FullName\"))\n",
    "                      .select(pl.col(\"ID\"), pl.col(\"FullName\"))\n",
    "                     )\n",
    "\n",
    "# print(df_avengers_names)\n",
    "df_avengers_names.head()"
   ]
  },
  {
   "cell_type": "code",
   "execution_count": 14,
   "metadata": {},
   "outputs": [
    {
     "name": "stdout",
     "output_type": "stream",
     "text": [
      "shape: (6, 2)\n",
      "┌─────┬─────────────────┐\n",
      "│ ID  ┆ Hero            │\n",
      "│ --- ┆ ---             │\n",
      "│ i64 ┆ str             │\n",
      "╞═════╪═════════════════╡\n",
      "│ 1   ┆ Captain America │\n",
      "│ 2   ┆ Iron Man        │\n",
      "│ 3   ┆ Spiderman       │\n",
      "│ 4   ┆ Ant-Man         │\n",
      "│ 5   ┆ Black Widow     │\n",
      "│ 6   ┆ Hawkeye         │\n",
      "└─────┴─────────────────┘\n",
      "shape: (1, 5)\n",
      "┌─────┬───────────┬──────────┬──────────┬────────────────┐\n",
      "│ ID  ┆ FirstName ┆ LastName ┆ Hometown ┆ Favorite Color │\n",
      "│ --- ┆ ---       ┆ ---      ┆ ---      ┆ ---            │\n",
      "│ i64 ┆ str       ┆ str      ┆ str      ┆ str            │\n",
      "╞═════╪═══════════╪══════════╪══════════╪════════════════╡\n",
      "│ 7   ┆ Wanda     ┆ Maximoff ┆ Sokovia  ┆ Scarlet        │\n",
      "└─────┴───────────┴──────────┴──────────┴────────────────┘\n"
     ]
    },
    {
     "name": "stderr",
     "output_type": "stream",
     "text": [
      "/tmp/ipykernel_9363/1548602643.py:12: DataOrientationWarning: Row orientation inferred during DataFrame construction. Explicitly specify the orientation by passing `orient=\"row\"` to silence this warning.\n",
      "  df_avengers_heroes = pl.DataFrame(l_hero_data, schema=l_hero_col_names)\n",
      "/tmp/ipykernel_9363/1548602643.py:21: DataOrientationWarning: Row orientation inferred during DataFrame construction. Explicitly specify the orientation by passing `orient=\"row\"` to silence this warning.\n",
      "  df_avengers_new = pl.DataFrame(l_new_avenger_data, schema=l_new_avenger_col_names)\n"
     ]
    }
   ],
   "source": [
    "# Create a new dataframe completely from scratch\n",
    "\n",
    "l_hero_data = [[1, \"Captain America\"]\n",
    "              ,[2, \"Iron Man\"]\n",
    "              ,[3, \"Spiderman\"]\n",
    "              ,[4, \"Ant-Man\"]\n",
    "              ,[5, \"Black Widow\"]\n",
    "              ,[6, \"Hawkeye\"]]\n",
    "\n",
    "l_hero_col_names = [\"ID\", \"Hero\"]\n",
    "\n",
    "df_avengers_heroes = pl.DataFrame(l_hero_data, schema=l_hero_col_names)\n",
    "\n",
    "\n",
    "# Create a new dataframe that matches the columns of an existing dataframe\n",
    "\n",
    "l_new_avenger_data = [[7, \"Wanda\", \"Maximoff\", \"Sokovia\", \"Scarlet\"]]\n",
    "\n",
    "l_new_avenger_col_names = df_avengers.columns # data and metadata from DFs can be called upon\n",
    "\n",
    "df_avengers_new = pl.DataFrame(l_new_avenger_data, schema=l_new_avenger_col_names)\n",
    "\n",
    "# Display both new dataframes\n",
    "print(df_avengers_heroes)\n",
    "\n",
    "print(df_avengers_new)"
   ]
  },
  {
   "cell_type": "code",
   "execution_count": 16,
   "metadata": {},
   "outputs": [
    {
     "name": "stdout",
     "output_type": "stream",
     "text": [
      "shape: (7, 6)\n",
      "┌─────┬───────────┬──────────┬──────────────────┬────────────────┬─────────────────┐\n",
      "│ ID  ┆ FirstName ┆ LastName ┆ Hometown         ┆ Favorite Color ┆ Hero            │\n",
      "│ --- ┆ ---       ┆ ---      ┆ ---              ┆ ---            ┆ ---             │\n",
      "│ i64 ┆ str       ┆ str      ┆ str              ┆ str            ┆ str             │\n",
      "╞═════╪═══════════╪══════════╪══════════════════╪════════════════╪═════════════════╡\n",
      "│ 1   ┆ Steve     ┆ Rogers   ┆ Brooklyn, NY     ┆ Blue           ┆ Captain America │\n",
      "│ 2   ┆ Tony      ┆ Stark    ┆ Manahattan, NY   ┆ Gold           ┆ Iron Man        │\n",
      "│ 3   ┆ Peter     ┆ Parker   ┆ Queens, NY       ┆ Blue           ┆ Spiderman       │\n",
      "│ 4   ┆ Scott     ┆ Lang     ┆ Coral Gables, FL ┆ Blue           ┆ Ant-Man         │\n",
      "│ 5   ┆ Natasha   ┆ Romanoff ┆ Stalingrad, USSR ┆ Black          ┆ Black Widow     │\n",
      "│ 6   ┆ Clint     ┆ Barton   ┆ Waverly, IA      ┆ Purple         ┆ Hawkeye         │\n",
      "│ 7   ┆ Wanda     ┆ Maximoff ┆ Sokovia          ┆ Scarlet        ┆ null            │\n",
      "└─────┴───────────┴──────────┴──────────────────┴────────────────┴─────────────────┘\n"
     ]
    }
   ],
   "source": [
    "# Two ways of combining data\n",
    "# Union (Concatenation in Polars)\n",
    "df_avengers_expanded = pl.concat([df_avengers, df_avengers_new], how=\"vertical\")\n",
    "\n",
    "# Join operation\n",
    "df_avengers_expanded = df_avengers_expanded.join(df_avengers_heroes, on=\"ID\", how=\"left\")\n",
    "\n",
    "# NOTE: If a table you're joing with is relatively small a \"broadcast join\" may improve processing time while distributed\n",
    "\n",
    "print(df_avengers_expanded)"
   ]
  },
  {
   "cell_type": "code",
   "execution_count": 19,
   "metadata": {},
   "outputs": [
    {
     "name": "stdout",
     "output_type": "stream",
     "text": [
      "shape: (5, 5)\n",
      "┌──────────────┬──────────┬──────────────────┬─────────────────┬───────────────┐\n",
      "│ FirstInitial ┆ LastName ┆ Hometown         ┆ Hero            ┆ FavoriteColor │\n",
      "│ ---          ┆ ---      ┆ ---              ┆ ---             ┆ ---           │\n",
      "│ str          ┆ str      ┆ str              ┆ str             ┆ str           │\n",
      "╞══════════════╪══════════╪══════════════════╪═════════════════╪═══════════════╡\n",
      "│ S            ┆ Rogers   ┆ Brooklyn, NY     ┆ Captain America ┆ Blue          │\n",
      "│ P            ┆ Parker   ┆ Queens, NY       ┆ Spiderman       ┆ Blue          │\n",
      "│ S            ┆ Lang     ┆ Coral Gables, FL ┆ Ant-Man         ┆ Blue          │\n",
      "│ N            ┆ Romanoff ┆ Stalingrad, USSR ┆ Black Widow     ┆ Black         │\n",
      "│ C            ┆ Barton   ┆ Waverly, IA      ┆ Hawkeye         ┆ Purple        │\n",
      "└──────────────┴──────────┴──────────────────┴─────────────────┴───────────────┘\n"
     ]
    }
   ],
   "source": [
    "# Filtering is generally a good skill to be able to utilize\n",
    "\n",
    "df_avengers_filtered = (df_avengers_expanded\n",
    "                         .filter(pl.col(\"Hero\").is_not_null())\n",
    "                         .filter(pl.col(\"Favorite Color\") != \"Gold\")\n",
    "                         .with_columns(pl.col(\"FirstName\").str.slice(0, 1).alias(\"FirstInitial\"))\n",
    "                         .drop(\"FirstName\")\n",
    "                         .select(\"FirstInitial\", \"LastName\", \"Hometown\", \"Hero\", pl.col(\"Favorite Color\").alias(\"FavoriteColor\"))\n",
    "                        )\n",
    "\n",
    "print(df_avengers_filtered)"
   ]
  }
 ],
 "metadata": {
  "kernelspec": {
   "display_name": "Python 3",
   "language": "python",
   "name": "python3"
  },
  "language_info": {
   "codemirror_mode": {
    "name": "ipython",
    "version": 3
   },
   "file_extension": ".py",
   "mimetype": "text/x-python",
   "name": "python",
   "nbconvert_exporter": "python",
   "pygments_lexer": "ipython3",
   "version": "3.12.1"
  }
 },
 "nbformat": 4,
 "nbformat_minor": 2
}
