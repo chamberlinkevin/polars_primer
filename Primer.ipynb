{
 "cells": [
  {
   "cell_type": "markdown",
   "metadata": {},
   "source": [
    "# Polars Primer Notebook\n",
    "### By Kevin Chamberlin\n",
    "__Updated April 2025__"
   ]
  },
  {
   "cell_type": "markdown",
   "metadata": {},
   "source": [
    "### Installing codespace requirements \n",
    "Depending on your development environment, this step may not be necessary."
   ]
  },
  {
   "cell_type": "code",
   "execution_count": 1,
   "metadata": {},
   "outputs": [
    {
     "name": "stdout",
     "output_type": "stream",
     "text": [
      "Note: you may need to restart the kernel to use updated packages.\n"
     ]
    }
   ],
   "source": [
    "%pip install polars --quiet"
   ]
  },
  {
   "cell_type": "code",
   "execution_count": 2,
   "metadata": {},
   "outputs": [],
   "source": [
    "import polars as pl"
   ]
  },
  {
   "cell_type": "markdown",
   "metadata": {},
   "source": [
    "### Intializing dataframes\n",
    "This is also commonly completed by reading data from a datasource."
   ]
  },
  {
   "cell_type": "code",
   "execution_count": 3,
   "metadata": {},
   "outputs": [
    {
     "name": "stdout",
     "output_type": "stream",
     "text": [
      "shape: (6, 5)\n",
      "┌─────┬───────────┬──────────┬──────────────────┬────────────────┐\n",
      "│ ID  ┆ FirstName ┆ LastName ┆ Hometown         ┆ Favorite Color │\n",
      "│ --- ┆ ---       ┆ ---      ┆ ---              ┆ ---            │\n",
      "│ i64 ┆ str       ┆ str      ┆ str              ┆ str            │\n",
      "╞═════╪═══════════╪══════════╪══════════════════╪════════════════╡\n",
      "│ 1   ┆ Steve     ┆ Rogers   ┆ Brooklyn, NY     ┆ Blue           │\n",
      "│ 2   ┆ Tony      ┆ Stark    ┆ Manahattan, NY   ┆ Gold           │\n",
      "│ 3   ┆ Peter     ┆ Parker   ┆ Queens, NY       ┆ Blue           │\n",
      "│ 4   ┆ Scott     ┆ Lang     ┆ Coral Gables, FL ┆ Blue           │\n",
      "│ 5   ┆ Natasha   ┆ Romanoff ┆ Stalingrad, USSR ┆ Black          │\n",
      "│ 6   ┆ Clint     ┆ Barton   ┆ Waverly, IA      ┆ Purple         │\n",
      "└─────┴───────────┴──────────┴──────────────────┴────────────────┘\n"
     ]
    },
    {
     "name": "stderr",
     "output_type": "stream",
     "text": [
      "/tmp/ipykernel_9363/4046307127.py:11: DataOrientationWarning: Row orientation inferred during DataFrame construction. Explicitly specify the orientation by passing `orient=\"row\"` to silence this warning.\n",
      "  df = pl.DataFrame(l_avengers_data, schema=l_avengers_col_names)\n"
     ]
    }
   ],
   "source": [
    "# Example of manually creating a DataFrame using Polars code \n",
    "l_avengers_data = [[1, \"Steve\", \"Rogers\", \"Brooklyn, NY\", \"Blue\"]\n",
    "              ,[2, \"Tony\", \"Stark\", \"Manahattan, NY\", \"Gold\"]\n",
    "              ,[3, \"Peter\", \"Parker\", \"Queens, NY\", \"Blue\"]\n",
    "              ,[4, \"Scott\", \"Lang\", \"Coral Gables, FL\", \"Blue\"]\n",
    "              ,[5, \"Natasha\", \"Romanoff\", \"Stalingrad, USSR\", \"Black\"]\n",
    "              ,[6, \"Clint\", \"Barton\", \"Waverly, IA\", \"Purple\"]]\n",
    "\n",
    "l_avengers_col_names = [\"ID\", \"FirstName\", \"LastName\", \"Hometown\", \"Favorite Color\"]\n",
    "\n",
    "df = pl.DataFrame(l_avengers_data, schema=l_avengers_col_names)\n",
    "\n",
    "# Display the DataFrame\n",
    "print(df)"
   ]
  }
 ],
 "metadata": {
  "kernelspec": {
   "display_name": "Python 3",
   "language": "python",
   "name": "python3"
  },
  "language_info": {
   "codemirror_mode": {
    "name": "ipython",
    "version": 3
   },
   "file_extension": ".py",
   "mimetype": "text/x-python",
   "name": "python",
   "nbconvert_exporter": "python",
   "pygments_lexer": "ipython3",
   "version": "3.12.1"
  }
 },
 "nbformat": 4,
 "nbformat_minor": 2
}
